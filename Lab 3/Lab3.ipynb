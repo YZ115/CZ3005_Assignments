{
 "cells": [
  {
   "cell_type": "code",
   "execution_count": 2,
   "metadata": {},
   "outputs": [],
   "source": [
    "from pyswip import *"
   ]
  },
  {
   "cell_type": "code",
   "execution_count": 3,
   "metadata": {},
   "outputs": [],
   "source": [
    "prolog = Prolog()\n",
    "prolog.consult('sandwich_interactor.pl')"
   ]
  },
  {
   "cell_type": "code",
   "execution_count": 4,
   "metadata": {},
   "outputs": [
    {
     "name": "stdout",
     "output_type": "stream",
     "text": [
      "Please enter you meal options: \n",
      "[Atom('414085'), Atom('414213'), Atom('414341'), Atom('325253'), Atom('61061')]\n"
     ]
    }
   ],
   "source": [
    "list(prolog.query('get_meals(X)'))==[{'X':'healthy'},{'X':'vegan'},{'X':'veggie'},{'X':'value'},{'X':'normal'}]\n",
    "print('Please enter you meal options: ')\n",
    "for soln in prolog.query(\"get_meals(X)\"):\n",
    "    print(soln[\"X\"])"
   ]
  },
  {
   "cell_type": "code",
   "execution_count": 5,
   "metadata": {},
   "outputs": [
    {
     "name": "stdout",
     "output_type": "stream",
     "text": [
      "[{'X': [Atom('414085'), Atom('414213'), Atom('414341'), Atom('325253'), Atom('61061')]}]\n"
     ]
    }
   ],
   "source": [
    "print(list(prolog.query('get_meals(X)')))"
   ]
  },
  {
   "cell_type": "code",
   "execution_count": 6,
   "metadata": {},
   "outputs": [
    {
     "data": {
      "text/plain": [
       "1"
      ]
     },
     "execution_count": 6,
     "metadata": {},
     "output_type": "execute_result"
    }
   ],
   "source": [
    "read=Functor(\"read\",1)\n",
    "Input=Variable()\n",
    "call(read(Input))"
   ]
  },
  {
   "cell_type": "code",
   "execution_count": null,
   "metadata": {},
   "outputs": [],
   "source": [
    "def py_read(*a):\n",
    "    a[0].unify(input(\"PyInput:\"))\n",
    "    return True\n",
    "\n",
    "registerForeign(py_read, arity=1)\n",
    "result = list(Prolog.query('assert_input(X)'))\n",
    "print(result[0]['X'])"
   ]
  }
 ],
 "metadata": {
  "kernelspec": {
   "display_name": "Python 3",
   "language": "python",
   "name": "python3"
  },
  "language_info": {
   "codemirror_mode": {
    "name": "ipython",
    "version": 3
   },
   "file_extension": ".py",
   "mimetype": "text/x-python",
   "name": "python",
   "nbconvert_exporter": "python",
   "pygments_lexer": "ipython3",
   "version": "3.7.1"
  }
 },
 "nbformat": 4,
 "nbformat_minor": 2
}
